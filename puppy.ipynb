{
 "cells": [
  {
   "cell_type": "code",
   "execution_count": 108,
   "metadata": {},
   "outputs": [],
   "source": [
    "import pandas as pd"
   ]
  },
  {
   "cell_type": "code",
   "execution_count": 109,
   "metadata": {},
   "outputs": [
    {
     "data": {
      "text/html": [
       "<div>\n",
       "<style scoped>\n",
       "    .dataframe tbody tr th:only-of-type {\n",
       "        vertical-align: middle;\n",
       "    }\n",
       "\n",
       "    .dataframe tbody tr th {\n",
       "        vertical-align: top;\n",
       "    }\n",
       "\n",
       "    .dataframe thead th {\n",
       "        text-align: right;\n",
       "    }\n",
       "</style>\n",
       "<table border=\"1\" class=\"dataframe\">\n",
       "  <thead>\n",
       "    <tr style=\"text-align: right;\">\n",
       "      <th></th>\n",
       "      <th>Puppy Name</th>\n",
       "      <th>Breed</th>\n",
       "    </tr>\n",
       "  </thead>\n",
       "  <tbody>\n",
       "    <tr>\n",
       "      <th>0</th>\n",
       "      <td>Lita</td>\n",
       "      <td>Cullin</td>\n",
       "    </tr>\n",
       "    <tr>\n",
       "      <th>1</th>\n",
       "      <td>Marcy</td>\n",
       "      <td>Raffo</td>\n",
       "    </tr>\n",
       "    <tr>\n",
       "      <th>2</th>\n",
       "      <td>Renie</td>\n",
       "      <td>Billye</td>\n",
       "    </tr>\n",
       "    <tr>\n",
       "      <th>3</th>\n",
       "      <td>Dorothy</td>\n",
       "      <td>Posner</td>\n",
       "    </tr>\n",
       "    <tr>\n",
       "      <th>4</th>\n",
       "      <td>Annecorinne</td>\n",
       "      <td>Felizio</td>\n",
       "    </tr>\n",
       "    <tr>\n",
       "      <th>5</th>\n",
       "      <td>Mellicent</td>\n",
       "      <td>Letsou</td>\n",
       "    </tr>\n",
       "    <tr>\n",
       "      <th>6</th>\n",
       "      <td>Imojean</td>\n",
       "      <td>Milson</td>\n",
       "    </tr>\n",
       "    <tr>\n",
       "      <th>7</th>\n",
       "      <td>Noelle</td>\n",
       "      <td>Hirsch</td>\n",
       "    </tr>\n",
       "    <tr>\n",
       "      <th>8</th>\n",
       "      <td>Ursulina</td>\n",
       "      <td>Myrilla</td>\n",
       "    </tr>\n",
       "    <tr>\n",
       "      <th>9</th>\n",
       "      <td>Carilyn</td>\n",
       "      <td>Marcellus</td>\n",
       "    </tr>\n",
       "    <tr>\n",
       "      <th>10</th>\n",
       "      <td>Gratia</td>\n",
       "      <td>Jaylene</td>\n",
       "    </tr>\n",
       "    <tr>\n",
       "      <th>11</th>\n",
       "      <td>Gisela</td>\n",
       "      <td>O'Carroll</td>\n",
       "    </tr>\n",
       "    <tr>\n",
       "      <th>12</th>\n",
       "      <td>Libbie</td>\n",
       "      <td>Sundin</td>\n",
       "    </tr>\n",
       "    <tr>\n",
       "      <th>13</th>\n",
       "      <td>Taffy</td>\n",
       "      <td>Center</td>\n",
       "    </tr>\n",
       "    <tr>\n",
       "      <th>14</th>\n",
       "      <td>Talya</td>\n",
       "      <td>Pernick</td>\n",
       "    </tr>\n",
       "    <tr>\n",
       "      <th>15</th>\n",
       "      <td>Emma</td>\n",
       "      <td>Magdalen</td>\n",
       "    </tr>\n",
       "    <tr>\n",
       "      <th>16</th>\n",
       "      <td>Marylou</td>\n",
       "      <td>Jary</td>\n",
       "    </tr>\n",
       "    <tr>\n",
       "      <th>17</th>\n",
       "      <td>Hettie</td>\n",
       "      <td>Paton</td>\n",
       "    </tr>\n",
       "    <tr>\n",
       "      <th>18</th>\n",
       "      <td>Deloria</td>\n",
       "      <td>Billye</td>\n",
       "    </tr>\n",
       "    <tr>\n",
       "      <th>19</th>\n",
       "      <td>Ginnie</td>\n",
       "      <td>Libna</td>\n",
       "    </tr>\n",
       "  </tbody>\n",
       "</table>\n",
       "</div>"
      ],
      "text/plain": [
       "     Puppy Name      Breed\n",
       "0          Lita     Cullin\n",
       "1         Marcy      Raffo\n",
       "2         Renie     Billye\n",
       "3       Dorothy     Posner\n",
       "4   Annecorinne    Felizio\n",
       "5     Mellicent     Letsou\n",
       "6       Imojean     Milson\n",
       "7        Noelle     Hirsch\n",
       "8      Ursulina    Myrilla\n",
       "9       Carilyn  Marcellus\n",
       "10       Gratia    Jaylene\n",
       "11       Gisela  O'Carroll\n",
       "12       Libbie     Sundin\n",
       "13        Taffy     Center\n",
       "14        Talya    Pernick\n",
       "15         Emma   Magdalen\n",
       "16      Marylou       Jary\n",
       "17       Hettie      Paton\n",
       "18      Deloria     Billye\n",
       "19       Ginnie      Libna"
      ]
     },
     "execution_count": 109,
     "metadata": {},
     "output_type": "execute_result"
    }
   ],
   "source": [
    "pd.read_csv('Puppy.csv')\n"
   ]
  },
  {
   "cell_type": "code",
   "execution_count": 110,
   "metadata": {},
   "outputs": [
    {
     "name": "stdout",
     "output_type": "stream",
     "text": [
      "     Puppy Name      Breed\n",
      "0          Lita     Cullin\n",
      "1         Marcy      Raffo\n",
      "2         Renie     Billye\n",
      "3       Dorothy     Posner\n",
      "4   Annecorinne    Felizio\n",
      "5     Mellicent     Letsou\n",
      "6       Imojean     Milson\n",
      "7        Noelle     Hirsch\n",
      "8      Ursulina    Myrilla\n",
      "9       Carilyn  Marcellus\n",
      "10       Gratia    Jaylene\n",
      "11       Gisela  O'Carroll\n",
      "12       Libbie     Sundin\n",
      "13        Taffy     Center\n",
      "14        Talya    Pernick\n",
      "15         Emma   Magdalen\n",
      "16      Marylou       Jary\n",
      "17       Hettie      Paton\n",
      "18      Deloria     Billye\n",
      "19       Ginnie      Libna\n"
     ]
    }
   ],
   "source": [
    "df = pd.read_csv('puppy.csv')\n",
    "\n",
    "print(df)\n"
   ]
  },
  {
   "cell_type": "code",
   "execution_count": 112,
   "metadata": {},
   "outputs": [
    {
     "ename": "ModuleNotFoundError",
     "evalue": "No module named 'sqlalchemy'",
     "output_type": "error",
     "traceback": [
      "\u001b[1;31m---------------------------------------------------------------------------\u001b[0m",
      "\u001b[1;31mModuleNotFoundError\u001b[0m                       Traceback (most recent call last)",
      "\u001b[1;32mc:\\Users\\jjspe\\Documents\\Jeremy Walker\\DA Bootcamp\\walker_jeremy_hw6_flask_pandas\\tek-walker-python2\\puppy.ipynb Cell 4'\u001b[0m in \u001b[0;36m<cell line: 1>\u001b[1;34m()\u001b[0m\n\u001b[1;32m----> <a href='vscode-notebook-cell:/c%3A/Users/jjspe/Documents/Jeremy%20Walker/DA%20Bootcamp/walker_jeremy_hw6_flask_pandas/tek-walker-python2/puppy.ipynb#ch0000004?line=0'>1</a>\u001b[0m \u001b[39mfrom\u001b[39;00m \u001b[39msqlalchemy\u001b[39;00m \u001b[39mimport\u001b[39;00m create_engine\n",
      "\u001b[1;31mModuleNotFoundError\u001b[0m: No module named 'sqlalchemy'"
     ]
    }
   ],
   "source": [
    "from sqlalchemy import create_engine\n"
   ]
  }
 ],
 "metadata": {
  "interpreter": {
   "hash": "c6013e9bc3707f92c9d9b5dd752295edd351f74d35e67c9a100520aa0ea583f0"
  },
  "kernelspec": {
   "display_name": "Python 3.10.4 64-bit (windows store)",
   "language": "python",
   "name": "python3"
  },
  "language_info": {
   "codemirror_mode": {
    "name": "ipython",
    "version": 3
   },
   "file_extension": ".py",
   "mimetype": "text/x-python",
   "name": "python",
   "nbconvert_exporter": "python",
   "pygments_lexer": "ipython3",
   "version": "3.10.4"
  },
  "orig_nbformat": 4
 },
 "nbformat": 4,
 "nbformat_minor": 2
}
